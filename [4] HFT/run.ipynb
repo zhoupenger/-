{
 "cells": [
  {
   "cell_type": "code",
   "execution_count": null,
   "metadata": {},
   "outputs": [],
   "source": [
    "import sys\n",
    "sys.path.append('/Users/syesw/Desktop/My_Code_Project/Fintech-Paper/[4] HFT')"
   ]
  },
  {
   "cell_type": "code",
   "execution_count": 4,
   "metadata": {},
   "outputs": [],
   "source": [
    "from sas7bdat import SAS7BDAT\n",
    "import pandas as pd\n",
    "\n",
    "path = 'Data/'\n",
    "\n",
    "bidask = 'bidask.sas7bdat'\n",
    "cboefinal = 'cboefinal.sas7bdat'\n",
    "dailycrsp = 'dailycrsp.sas7bdat'\n",
    "dcast_atm_nasdaq = 'dcast_atm_nasdaq.sas7bdat'\n",
    "dcast_nonatm_nasdaq = 'dcast_nonatm_nasdaq.sas7bdat'\n",
    "nasdaqhft = 'nasdaqhft.sas7bdat'\n",
    "optionmetrix1 = 'optionmetrix1.sas7bdat'\n",
    "optionmetrix2 = 'optionmetrix2.sas7bdat'\n",
    "optiontradenasdaq = 'optiontradenasdaq.sas7bdat'\n",
    "ravenpackmain1un = 'ravenpackmain1un.sas7bdat'\n",
    "realizedvoldata = 'realizedvoldata.sas7bdat'\n",
    "\n",
    "bidask_df = SAS7BDAT(path + bidask).to_data_frame()\n",
    "cboefinal_df = SAS7BDAT(path + cboefinal).to_data_frame()\n",
    "dailycrsp_df = SAS7BDAT(path + dailycrsp).to_data_frame()\n",
    "dcast_atm_nasdaq_df = SAS7BDAT(path + dcast_atm_nasdaq).to_data_frame()\n",
    "dcast_nonatm_nasdaq_df = SAS7BDAT(path + dcast_nonatm_nasdaq).to_data_frame()\n",
    "nasdaqhft_df = SAS7BDAT(path + nasdaqhft).to_data_frame()\n",
    "optionmetrix1_df = SAS7BDAT(path + optionmetrix1).to_data_frame()\n",
    "optionmetrix2_df = SAS7BDAT(path + optionmetrix2).to_data_frame()\n",
    "optiontradenasdaq_df = SAS7BDAT(path + optiontradenasdaq).to_data_frame()\n",
    "ravenpackmain1un_df = SAS7BDAT(path + ravenpackmain1un).to_data_frame()\n",
    "realizedvoldate_df = SAS7BDAT(path + realizedvoldata).to_data_frame()"
   ]
  },
  {
   "cell_type": "code",
   "execution_count": 15,
   "metadata": {},
   "outputs": [],
   "source": [
    "#print(\"Daily trading information\")\n",
    "#print(bidask_df.head())\n",
    "\n",
    "#print(\"CBOE options trading data including open-close positions\")\n",
    "#print(cboefinal_df)\n",
    "\n",
    "#print(\"Daily trading information\")\n",
    "#print(dailycrsp_df)\n",
    "\n",
    "#print(\"Put-call parity violations / R\")\n",
    "#print(dcast_atm_nasdaq_df.head())\n",
    "\n",
    "#print(\"Put-call parity violations / R\")\n",
    "#print(dcast_nonatm_nasdaq_df.head())\n",
    "\n",
    "#print(\"NASDAQ HFT Data\")\n",
    "#print(nasdaqhft_df)\n",
    "\n",
    "#print(\"Information on options trading\")\n",
    "#print(optionmetrix1_df.head())\n",
    "\n",
    "#print(\"Information on options trading\")\n",
    "#print(optionmetrix2_df.head())\n",
    "\n",
    "#print(\"Transaction-level options data for 120 stocks included in the NASDAQ HFT data\")\n",
    "#print(optiontradenasdaq_df.head())\n",
    "\n",
    "#print(\"News data\")\n",
    "#print(ravenpackmain1un_df)\n",
    "\n",
    "#print(\"5-minutes trading information\")\n",
    "#print(realizedvoldate_df.head())\n"
   ]
  },
  {
   "cell_type": "code",
   "execution_count": 19,
   "metadata": {},
   "outputs": [],
   "source": [
    "#bidask_df.to_parquet('bidask_df.parquet')\n",
    "#cboefinal_df.to_parquet('cboefinal_df.parquet')\n",
    "#dailycrsp_df.to_parquet('dailycrsp_df.parquet')\n",
    "#dcast_atm_nasdaq_df.to_parquet('dcast_atm_nasdaq_df.parquet')\n",
    "#dcast_nonatm_nasdaq_df.to_parquet('dcast_nonatm_nasdaq_df.parquet')\n",
    "#nasdaqhft_df.to_parquet('nasdaqhft_df.parquet')\n",
    "#optionmetrix1_df.to_parquet('optionmetrix1_df.parquet')\n",
    "#optionmetrix2_df.to_parquet('optionmetrix2_df.parquet')\n",
    "#optiontradenasdaq_df.to_parquet('optiontradenasdaq_df.parquet')\n",
    "#ravenpackmain1un_df.to_parquet('ravenpackmain1un_df.parquet')\n",
    "#realizedvoldate_df.to_parquet('realizedvoldate_df.parquet')"
   ]
  },
  {
   "cell_type": "code",
   "execution_count": 22,
   "metadata": {},
   "outputs": [],
   "source": [
    "\n"
   ]
  }
 ],
 "metadata": {
  "kernelspec": {
   "display_name": "RL",
   "language": "python",
   "name": "python3"
  },
  "language_info": {
   "codemirror_mode": {
    "name": "ipython",
    "version": 3
   },
   "file_extension": ".py",
   "mimetype": "text/x-python",
   "name": "python",
   "nbconvert_exporter": "python",
   "pygments_lexer": "ipython3",
   "version": "3.8.19"
  }
 },
 "nbformat": 4,
 "nbformat_minor": 2
}
